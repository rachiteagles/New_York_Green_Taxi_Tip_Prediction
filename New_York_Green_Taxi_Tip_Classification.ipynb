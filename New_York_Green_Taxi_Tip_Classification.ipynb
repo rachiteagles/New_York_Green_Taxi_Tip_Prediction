{
 "cells": [
  {
   "cell_type": "code",
   "execution_count": 1,
   "metadata": {
    "id": "7MBB5ZPZIXBt"
   },
   "outputs": [],
   "source": [
    "import numpy as np\n",
    "import pandas as pd\n",
    "import seaborn as sns\n",
    "from matplotlib import pyplot as plt\n",
    "from sklearn.model_selection import train_test_split\n",
    "from sklearn.preprocessing import LabelEncoder\n",
    "from sklearn.ensemble import RandomForestClassifier,IsolationForest\n",
    "from sklearn.metrics import log_loss, accuracy_score\n",
    "from imblearn.over_sampling import SMOTE \n",
    "import warnings\n",
    "warnings.filterwarnings('ignore')"
   ]
  },
  {
   "cell_type": "markdown",
   "metadata": {
    "id": "XqugwTf5yYUJ"
   },
   "source": [
    "# **EDA**"
   ]
  },
  {
   "cell_type": "markdown",
   "metadata": {},
   "source": [
    "#### **Answer1**"
   ]
  },
  {
   "cell_type": "code",
   "execution_count": 2,
   "metadata": {
    "id": "Skx-G3R-Rvim"
   },
   "outputs": [],
   "source": [
    "#load the data\n",
    "\n",
    "df = pd.read_csv('green_tripdata_2016-12.csv')"
   ]
  },
  {
   "cell_type": "code",
   "execution_count": 3,
   "metadata": {
    "colab": {
     "base_uri": "https://localhost:8080/",
     "height": 444
    },
    "id": "pmAbtbo_R2W2",
    "outputId": "4b86e798-c51b-4827-d4f5-c9e56a437f55"
   },
   "outputs": [
    {
     "data": {
      "text/html": [
       "<div>\n",
       "<style scoped>\n",
       "    .dataframe tbody tr th:only-of-type {\n",
       "        vertical-align: middle;\n",
       "    }\n",
       "\n",
       "    .dataframe tbody tr th {\n",
       "        vertical-align: top;\n",
       "    }\n",
       "\n",
       "    .dataframe thead th {\n",
       "        text-align: right;\n",
       "    }\n",
       "</style>\n",
       "<table border=\"1\" class=\"dataframe\">\n",
       "  <thead>\n",
       "    <tr style=\"text-align: right;\">\n",
       "      <th></th>\n",
       "      <th></th>\n",
       "      <th>VendorID</th>\n",
       "      <th>lpep_pickup_datetime</th>\n",
       "      <th>lpep_dropoff_datetime</th>\n",
       "      <th>store_and_fwd_flag</th>\n",
       "      <th>RatecodeID</th>\n",
       "      <th>PULocationID</th>\n",
       "      <th>DOLocationID</th>\n",
       "      <th>passenger_count</th>\n",
       "      <th>trip_distance</th>\n",
       "      <th>fare_amount</th>\n",
       "      <th>extra</th>\n",
       "      <th>mta_tax</th>\n",
       "      <th>tip_amount</th>\n",
       "      <th>tolls_amount</th>\n",
       "      <th>ehail_fee</th>\n",
       "      <th>improvement_surcharge</th>\n",
       "      <th>total_amount</th>\n",
       "      <th>payment_type</th>\n",
       "      <th>trip_type</th>\n",
       "    </tr>\n",
       "  </thead>\n",
       "  <tbody>\n",
       "    <tr>\n",
       "      <th rowspan=\"5\" valign=\"top\">2</th>\n",
       "      <th>2016-12-01 00:00:54</th>\n",
       "      <td>2016-12-01 00:06:54</td>\n",
       "      <td>N</td>\n",
       "      <td>1</td>\n",
       "      <td>92</td>\n",
       "      <td>192</td>\n",
       "      <td>1</td>\n",
       "      <td>1.29</td>\n",
       "      <td>6.5</td>\n",
       "      <td>0.5</td>\n",
       "      <td>0.5</td>\n",
       "      <td>0.00</td>\n",
       "      <td>0.0</td>\n",
       "      <td>NaN</td>\n",
       "      <td>0.3</td>\n",
       "      <td>7.80</td>\n",
       "      <td>2</td>\n",
       "      <td>1</td>\n",
       "      <td>NaN</td>\n",
       "      <td>NaN</td>\n",
       "    </tr>\n",
       "    <tr>\n",
       "      <th>2016-12-01 00:52:41</th>\n",
       "      <td>2016-12-01 00:54:51</td>\n",
       "      <td>N</td>\n",
       "      <td>1</td>\n",
       "      <td>92</td>\n",
       "      <td>171</td>\n",
       "      <td>1</td>\n",
       "      <td>0.64</td>\n",
       "      <td>4.0</td>\n",
       "      <td>0.5</td>\n",
       "      <td>0.5</td>\n",
       "      <td>1.06</td>\n",
       "      <td>0.0</td>\n",
       "      <td>NaN</td>\n",
       "      <td>0.3</td>\n",
       "      <td>6.36</td>\n",
       "      <td>1</td>\n",
       "      <td>1</td>\n",
       "      <td>NaN</td>\n",
       "      <td>NaN</td>\n",
       "    </tr>\n",
       "    <tr>\n",
       "      <th>2016-12-01 00:10:39</th>\n",
       "      <td>2016-12-01 00:14:47</td>\n",
       "      <td>N</td>\n",
       "      <td>1</td>\n",
       "      <td>75</td>\n",
       "      <td>238</td>\n",
       "      <td>2</td>\n",
       "      <td>0.89</td>\n",
       "      <td>5.5</td>\n",
       "      <td>0.5</td>\n",
       "      <td>0.5</td>\n",
       "      <td>1.70</td>\n",
       "      <td>0.0</td>\n",
       "      <td>NaN</td>\n",
       "      <td>0.3</td>\n",
       "      <td>8.50</td>\n",
       "      <td>1</td>\n",
       "      <td>1</td>\n",
       "      <td>NaN</td>\n",
       "      <td>NaN</td>\n",
       "    </tr>\n",
       "    <tr>\n",
       "      <th>2016-12-01 00:12:16</th>\n",
       "      <td>2016-12-01 00:15:31</td>\n",
       "      <td>N</td>\n",
       "      <td>1</td>\n",
       "      <td>166</td>\n",
       "      <td>151</td>\n",
       "      <td>1</td>\n",
       "      <td>0.66</td>\n",
       "      <td>4.5</td>\n",
       "      <td>0.5</td>\n",
       "      <td>0.5</td>\n",
       "      <td>1.74</td>\n",
       "      <td>0.0</td>\n",
       "      <td>NaN</td>\n",
       "      <td>0.3</td>\n",
       "      <td>7.54</td>\n",
       "      <td>1</td>\n",
       "      <td>1</td>\n",
       "      <td>NaN</td>\n",
       "      <td>NaN</td>\n",
       "    </tr>\n",
       "    <tr>\n",
       "      <th>2016-12-01 00:29:22</th>\n",
       "      <td>2016-12-01 00:39:51</td>\n",
       "      <td>N</td>\n",
       "      <td>1</td>\n",
       "      <td>166</td>\n",
       "      <td>42</td>\n",
       "      <td>1</td>\n",
       "      <td>2.15</td>\n",
       "      <td>9.5</td>\n",
       "      <td>0.5</td>\n",
       "      <td>0.5</td>\n",
       "      <td>2.16</td>\n",
       "      <td>0.0</td>\n",
       "      <td>NaN</td>\n",
       "      <td>0.3</td>\n",
       "      <td>12.96</td>\n",
       "      <td>1</td>\n",
       "      <td>1</td>\n",
       "      <td>NaN</td>\n",
       "      <td>NaN</td>\n",
       "    </tr>\n",
       "  </tbody>\n",
       "</table>\n",
       "</div>"
      ],
      "text/plain": [
       "                                  VendorID lpep_pickup_datetime  \\\n",
       "2 2016-12-01 00:00:54  2016-12-01 00:06:54                    N   \n",
       "  2016-12-01 00:52:41  2016-12-01 00:54:51                    N   \n",
       "  2016-12-01 00:10:39  2016-12-01 00:14:47                    N   \n",
       "  2016-12-01 00:12:16  2016-12-01 00:15:31                    N   \n",
       "  2016-12-01 00:29:22  2016-12-01 00:39:51                    N   \n",
       "\n",
       "                       lpep_dropoff_datetime  store_and_fwd_flag  RatecodeID  \\\n",
       "2 2016-12-01 00:00:54                      1                  92         192   \n",
       "  2016-12-01 00:52:41                      1                  92         171   \n",
       "  2016-12-01 00:10:39                      1                  75         238   \n",
       "  2016-12-01 00:12:16                      1                 166         151   \n",
       "  2016-12-01 00:29:22                      1                 166          42   \n",
       "\n",
       "                       PULocationID  DOLocationID  passenger_count  \\\n",
       "2 2016-12-01 00:00:54             1          1.29              6.5   \n",
       "  2016-12-01 00:52:41             1          0.64              4.0   \n",
       "  2016-12-01 00:10:39             2          0.89              5.5   \n",
       "  2016-12-01 00:12:16             1          0.66              4.5   \n",
       "  2016-12-01 00:29:22             1          2.15              9.5   \n",
       "\n",
       "                       trip_distance  fare_amount  extra  mta_tax  tip_amount  \\\n",
       "2 2016-12-01 00:00:54            0.5          0.5   0.00      0.0         NaN   \n",
       "  2016-12-01 00:52:41            0.5          0.5   1.06      0.0         NaN   \n",
       "  2016-12-01 00:10:39            0.5          0.5   1.70      0.0         NaN   \n",
       "  2016-12-01 00:12:16            0.5          0.5   1.74      0.0         NaN   \n",
       "  2016-12-01 00:29:22            0.5          0.5   2.16      0.0         NaN   \n",
       "\n",
       "                       tolls_amount  ehail_fee  improvement_surcharge  \\\n",
       "2 2016-12-01 00:00:54           0.3       7.80                      2   \n",
       "  2016-12-01 00:52:41           0.3       6.36                      1   \n",
       "  2016-12-01 00:10:39           0.3       8.50                      1   \n",
       "  2016-12-01 00:12:16           0.3       7.54                      1   \n",
       "  2016-12-01 00:29:22           0.3      12.96                      1   \n",
       "\n",
       "                       total_amount  payment_type  trip_type  \n",
       "2 2016-12-01 00:00:54             1           NaN        NaN  \n",
       "  2016-12-01 00:52:41             1           NaN        NaN  \n",
       "  2016-12-01 00:10:39             1           NaN        NaN  \n",
       "  2016-12-01 00:12:16             1           NaN        NaN  \n",
       "  2016-12-01 00:29:22             1           NaN        NaN  "
      ]
     },
     "execution_count": 3,
     "metadata": {},
     "output_type": "execute_result"
    }
   ],
   "source": [
    "df.head()"
   ]
  },
  {
   "cell_type": "markdown",
   "metadata": {
    "id": "Q5UoGrJ-SEzy"
   },
   "source": [
    "<div class='alert alert-danger'>We can see that all the columns are shifted by 2 towards left. On openning the data on notepad I found that this is due to presence of 2 empty columns at the end. Therefore we need to make sure that correct column name corresponds to correct column. We need to fix this in order to proceed ahead"
   ]
  },
  {
   "cell_type": "code",
   "execution_count": 4,
   "metadata": {
    "id": "7Du5PdjjUUBO"
   },
   "outputs": [],
   "source": [
    "columns = df.columns\n",
    "\n",
    "df_new = pd.read_csv('green_tripdata_2016-12.csv',header=None,usecols=range(19),skiprows=1)\n",
    "\n",
    "df_new.columns = df.columns"
   ]
  },
  {
   "cell_type": "code",
   "execution_count": 5,
   "metadata": {
    "colab": {
     "base_uri": "https://localhost:8080/",
     "height": 487
    },
    "id": "BAqK6klETVZg",
    "outputId": "b0cb470b-087c-44e5-f1d4-26dc77c84703"
   },
   "outputs": [
    {
     "name": "stdout",
     "output_type": "stream",
     "text": [
      "<class 'pandas.core.frame.DataFrame'>\n",
      "RangeIndex: 1224158 entries, 0 to 1224157\n",
      "Data columns (total 19 columns):\n",
      " #   Column                 Non-Null Count    Dtype  \n",
      "---  ------                 --------------    -----  \n",
      " 0   VendorID               1224158 non-null  int64  \n",
      " 1   lpep_pickup_datetime   1224158 non-null  object \n",
      " 2   lpep_dropoff_datetime  1224158 non-null  object \n",
      " 3   store_and_fwd_flag     1224158 non-null  object \n",
      " 4   RatecodeID             1224158 non-null  int64  \n",
      " 5   PULocationID           1224158 non-null  int64  \n",
      " 6   DOLocationID           1224158 non-null  int64  \n",
      " 7   passenger_count        1224158 non-null  int64  \n",
      " 8   trip_distance          1224158 non-null  float64\n",
      " 9   fare_amount            1224158 non-null  float64\n",
      " 10  extra                  1224158 non-null  float64\n",
      " 11  mta_tax                1224158 non-null  float64\n",
      " 12  tip_amount             1224158 non-null  float64\n",
      " 13  tolls_amount           1224158 non-null  float64\n",
      " 14  ehail_fee              0 non-null        float64\n",
      " 15  improvement_surcharge  1224158 non-null  float64\n",
      " 16  total_amount           1224158 non-null  float64\n",
      " 17  payment_type           1224158 non-null  int64  \n",
      " 18  trip_type              1224158 non-null  int64  \n",
      "dtypes: float64(9), int64(7), object(3)\n",
      "memory usage: 177.5+ MB\n"
     ]
    }
   ],
   "source": [
    "df_new.info()"
   ]
  },
  {
   "cell_type": "code",
   "execution_count": 6,
   "metadata": {
    "id": "U9gUg9G_P5XT"
   },
   "outputs": [],
   "source": [
    "# Converting lpep_pickup_datetime and lpep_dropoff_datetime columns to date time format\n",
    "\n",
    "df_new['lpep_pickup_datetime'] = pd.to_datetime(df_new['lpep_pickup_datetime'])\n",
    "df_new['lpep_dropoff_datetime'] = pd.to_datetime(df_new['lpep_dropoff_datetime'])"
   ]
  },
  {
   "cell_type": "code",
   "execution_count": 7,
   "metadata": {},
   "outputs": [],
   "source": [
    "# function to plot heatmap of correlation matrix\n",
    "def cor_heatmap(df,title):\n",
    "    plt.figure(figsize=(8,6))\n",
    "    corr = df.corr()\n",
    "    plt.title(title,fontsize=20)\n",
    "    sns.heatmap(corr, \n",
    "              xticklabels=corr.columns,\n",
    "              yticklabels=corr.columns)\n",
    "    plt.show()"
   ]
  },
  {
   "cell_type": "code",
   "execution_count": 8,
   "metadata": {},
   "outputs": [],
   "source": [
    "# function to plot histogram\n",
    "def plot_hist(data,bins,title,xlabel,ylabel):\n",
    "    fig, ax = plt.subplots()\n",
    "    data.hist(bins = range(bins),align='mid',edgecolor = \"black\",linewidth=1)\n",
    "    ax.set_title(title,fontsize=20)\n",
    "    ax.set_xlabel(xlabel)\n",
    "    ax.set_ylabel(ylabel)\n",
    "    ax.set_xticks(range(bins))\n",
    "    ax.spines['right'].set_visible(False)\n",
    "    ax.spines['top'].set_visible(False)\n",
    "    ax.grid(False)\n",
    "    plt.show()"
   ]
  },
  {
   "cell_type": "markdown",
   "metadata": {},
   "source": [
    "#### Numerical features statistics -"
   ]
  },
  {
   "cell_type": "code",
   "execution_count": 9,
   "metadata": {},
   "outputs": [
    {
     "data": {
      "image/png": "[encoded data removed]",
      "text/plain": [
       "<Figure size 1080x1080 with 9 Axes>"
      ]
     },
     "metadata": {
      "needs_background": "light"
     },
     "output_type": "display_data"
    }
   ],
   "source": [
    "# method to plot statistics for numerical features\n",
    "def feat_stat(df):\n",
    "    fig, axes = plt.subplots(3,3,figsize=[15,15])\n",
    "\n",
    "    num_col = ['passenger_count','trip_distance','fare_amount','extra','mta_tax','tip_amount',\n",
    "               'tolls_amount','improvement_surcharge','total_amount']\n",
    "    describe_df_new = df.describe()\n",
    "    describe_df_new.reset_index(inplace=True)\n",
    "\n",
    "    describe_df_new = describe_df_new[describe_df_new['index'] != 'count']\n",
    "    index = ['mean','std','min','25%','50%','75%','max']\n",
    "\n",
    "    describe_df_new.index = index\n",
    "    for i in range(3):\n",
    "        for j in range(3):\n",
    "            axes[i,j].plot(describe_df_new[num_col[i+j*3]])\n",
    "            axes[i,j].set_title(num_col[i+j*3])\n",
    "            axes[i,j].spines['right'].set_visible(False)\n",
    "            axes[i,j].spines['top'].set_visible(False)\n",
    "\n",
    "feat_stat(df_new)"
   ]
  },
  {
   "cell_type": "markdown",
   "metadata": {},
   "source": [
    "#### Data Range - "
   ]
  },
  {
   "cell_type": "code",
   "execution_count": 10,
   "metadata": {},
   "outputs": [
    {
     "name": "stdout",
     "output_type": "stream",
     "text": [
      "Minimum pickup date: 2016-12-01 00:00:00\n",
      "Minimum dropoff date: 2016-12-01 00:00:00\n"
     ]
    }
   ],
   "source": [
    "print('Minimum pickup date: ' + str(min(df_new['lpep_pickup_datetime']))+\n",
    "      '\\nMinimum dropoff date: '+str(min(df_new['lpep_dropoff_datetime'])))"
   ]
  },
  {
   "cell_type": "code",
   "execution_count": 11,
   "metadata": {},
   "outputs": [
    {
     "name": "stdout",
     "output_type": "stream",
     "text": [
      "Maximum pickup date: 2016-12-31 23:59:59\n",
      "Maximum dropoff date: 2017-01-01 23:28:49\n"
     ]
    }
   ],
   "source": [
    "print('Maximum pickup date: ' + str(max(df_new['lpep_pickup_datetime']))+\n",
    "      '\\nMaximum dropoff date: '+str(max(df_new['lpep_dropoff_datetime'])))"
   ]
  },
  {
   "cell_type": "markdown",
   "metadata": {},
   "source": [
    "#### Unique Vendor -"
   ]
  },
  {
   "cell_type": "code",
   "execution_count": 12,
   "metadata": {},
   "outputs": [
    {
     "name": "stdout",
     "output_type": "stream",
     "text": [
      "Unique Vendors: [2 1]\n"
     ]
    }
   ],
   "source": [
    "print('Unique Vendors: '+str(df_new['VendorID'].unique()))"
   ]
  },
  {
   "cell_type": "markdown",
   "metadata": {},
   "source": [
    "#### Correlation - "
   ]
  },
  {
   "cell_type": "code",
   "execution_count": 13,
   "metadata": {},
   "outputs": [
    {
     "data": {
      "image/png": "[encoded data removed]",
      "text/plain": [
       "<Figure size 576x432 with 2 Axes>"
      ]
     },
     "metadata": {
      "needs_background": "light"
     },
     "output_type": "display_data"
    }
   ],
   "source": [
    "cor_heatmap(df_new,title = 'Heatmap of Correlation of columns amongst each other')"
   ]
  },
  {
   "cell_type": "markdown",
   "metadata": {},
   "source": [
    "#### Tip distribution"
   ]
  },
  {
   "cell_type": "code",
   "execution_count": 14,
   "metadata": {},
   "outputs": [
    {
     "data": {
      "image/png": "[encoded data removed]",
      "text/plain": [
       "<Figure size 432x288 with 1 Axes>"
      ]
     },
     "metadata": {
      "needs_background": "light"
     },
     "output_type": "display_data"
    }
   ],
   "source": [
    "plot_hist(df_new['tip_amount'],11,title='Tip Amount Histogram with Cash Transactions',\n",
    "          xlabel = 'Tip Amount',ylabel='Number of occurences')"
   ]
  },
  {
   "cell_type": "code",
   "execution_count": 15,
   "metadata": {},
   "outputs": [
    {
     "data": {
      "image/png": "[encoded data removed]",
      "text/plain": [
       "<Figure size 432x288 with 1 Axes>"
      ]
     },
     "metadata": {
      "needs_background": "light"
     },
     "output_type": "display_data"
    }
   ],
   "source": [
    "plot_hist(df_new[df_new['payment_type']!=2]['tip_amount'],11,title='Tip Amount Histogram without Cash Transasctions',\n",
    "          xlabel = 'Tip Amount',ylabel='Number of occurences')"
   ]
  },
  {
   "cell_type": "markdown",
   "metadata": {},
   "source": [
    "<div class=\"alert alert-block alert-success\">\n",
    "On performing above analysis following can be said about the data:\n",
    "\n",
    "- Details for each column is published by Taxi and Limousine Commission and can be found at https://www1.nyc.gov/assets/tlc/downloads/pdf/data_dictionary_trip_records_green.pdf\n",
    "- Data contains records of taxi trip from 2016-12-01 to 2017-01-01\n",
    "- There are some outliers in the data which either has exceptionally large, negative values or zero values. For example: negative tip amount, 0 passenger count, 147 mile trip distance, etc.\n",
    "- Data is collected from only 2 vendors\n",
    "- There exists high correlation amongst few columns. For example between trip_distance and fare_amount\n",
    "- The column ehail_fee doesnot contains any data\n",
    "- As per the link shared in point one, Tip Amount is automatically populated for credit card tips. Cash tips are not included. As a result, Tip Amount Histogram seems dominated by zero tips when cash transaction is also considered. Without considering cash transaction we can see that 1 dollar tip is maximum \n",
    "    \n",
    "New York Green Taxi's data is not completely clean. There are some issues with the data that are stated above. To draw insights from the data, we need to resolve these issues"
   ]
  },
  {
   "cell_type": "code",
   "execution_count": 16,
   "metadata": {},
   "outputs": [],
   "source": [
    "# removing outliers\n",
    "\n",
    "df_new = df_new[(df_new['passenger_count'] > 0) & (df_new['trip_distance'] > 0)\n",
    "                & (df_new['fare_amount'] > 0) & (df_new['mta_tax'] >= 0)\n",
    "                & (df_new['tip_amount'] >= 0) & (df_new['tolls_amount'] >= 0) \n",
    "                & (df_new['improvement_surcharge'] >= 0) & (df_new['total_amount'] > 0)]\n",
    "\n",
    "# restricting trip distance between 0.1 mile and 95 percentile \n",
    "\n",
    "df_new = df_new[(df_new['trip_distance'] < df_new['trip_distance'].quantile(.95))&(df_new['trip_distance'] > 0.1)]"
   ]
  },
  {
   "cell_type": "code",
   "execution_count": 17,
   "metadata": {},
   "outputs": [],
   "source": [
    "# dropping ehail_fee column\n",
    "\n",
    "df_new = df_new.drop(['ehail_fee'],axis=1)"
   ]
  },
  {
   "cell_type": "markdown",
   "metadata": {},
   "source": [
    "#### Answer 2"
   ]
  },
  {
   "cell_type": "code",
   "execution_count": 18,
   "metadata": {
    "colab": {
     "base_uri": "https://localhost:8080/",
     "height": 300
    },
    "id": "jAk95LjfEF5A",
    "outputId": "71bfb55b-752c-4cf0-be79-0fa6801480a7"
   },
   "outputs": [
    {
     "data": {
      "image/png": "[encoded data removed]",
      "text/plain": [
       "<Figure size 432x288 with 1 Axes>"
      ]
     },
     "metadata": {
      "needs_background": "light"
     },
     "output_type": "display_data"
    }
   ],
   "source": [
    "plot_hist(df_new['trip_distance'],9,title='Trip Distance Histogram',\n",
    "          xlabel = 'Trip Distance',ylabel='Rides count')"
   ]
  },
  {
   "cell_type": "markdown",
   "metadata": {},
   "source": [
    "<div class=\"alert alert-block alert-success\">\n",
    "<strong>Insights</strong> - Most of the trips were for short distances and got completed within 4 miles"
   ]
  },
  {
   "cell_type": "code",
   "execution_count": 19,
   "metadata": {
    "colab": {
     "base_uri": "https://localhost:8080/",
     "height": 288
    },
    "id": "tPy9QgWsERaU",
    "outputId": "6ef7ad08-6856-45b3-ef68-a8cb42903f97"
   },
   "outputs": [
    {
     "data": {
      "image/png": "[encoded data removed]",
      "text/plain": [
       "<Figure size 432x288 with 1 Axes>"
      ]
     },
     "metadata": {
      "needs_background": "light"
     },
     "output_type": "display_data"
    }
   ],
   "source": [
    "\n",
    "fig, ax = plt.subplots()\n",
    "df_new['VendorID'].hist(bins=np.arange(0.75,2.5,0.5),align='mid',edgecolor = \"black\",linewidth=1)\n",
    "\n",
    "ax.set_xticklabels(['','',1,'','','','',2])\n",
    "ax.set_xlabel('')\n",
    "ax.tick_params(axis='x',length=0)\n",
    "\n",
    "\n",
    "ax.set_xlabel('Vendor_ID')\n",
    "ax.set_ylabel('Rides')\n",
    "ax.set_title('Vendor Histogram',fontsize = 20)\n",
    "ax.spines['right'].set_visible(False)\n",
    "ax.spines['top'].set_visible(False)\n",
    "ax.grid(False)\n",
    "\n",
    "plt.show()"
   ]
  },
  {
   "cell_type": "markdown",
   "metadata": {},
   "source": [
    "<div class=\"alert alert-block alert-success\">\n",
    "<strong>Insights</strong> - We have more data from Vendor 2 as compared to Vendor 1"
   ]
  },
  {
   "cell_type": "markdown",
   "metadata": {},
   "source": [
    "#### Answer 3"
   ]
  },
  {
   "cell_type": "code",
   "execution_count": 20,
   "metadata": {},
   "outputs": [],
   "source": [
    "# fetching hour from the date\n",
    "\n",
    "df_new['pickup_hour'] = df_new['lpep_pickup_datetime'].dt.hour\n",
    "df_new['dropoff_hour'] = df_new['lpep_dropoff_datetime'].dt.hour"
   ]
  },
  {
   "cell_type": "code",
   "execution_count": 21,
   "metadata": {
    "id": "O95H5dmnsgbG"
   },
   "outputs": [
    {
     "data": {
      "image/png": "[encoded data removed]",
      "text/plain": [
       "<Figure size 576x288 with 1 Axes>"
      ]
     },
     "metadata": {
      "needs_background": "light"
     },
     "output_type": "display_data"
    }
   ],
   "source": [
    "# fetching pickup counts grouped by hour\n",
    "pick_rides_count = df_new.groupby('pickup_hour').count()['VendorID']\n",
    "\n",
    "\n",
    "fig, ax = plt.subplots(figsize=(8,4))\n",
    "plt.bar(x=pick_rides_count.index,height=pick_rides_count.values,edgecolor = \"black\",linewidth=1)\n",
    "\n",
    "bins=24\n",
    "\n",
    "ax.set_title('Pickup Hour Rides Distribution',fontsize=20)\n",
    "ax.set_xlabel('pickup hour')\n",
    "ax.set_ylabel('Rides')\n",
    "ax.set_xticks(range(bins))\n",
    "ax.spines['right'].set_visible(False)\n",
    "ax.spines['top'].set_visible(False)\n",
    "\n",
    "\n",
    "plt.show()"
   ]
  },
  {
   "cell_type": "code",
   "execution_count": 22,
   "metadata": {
    "id": "A0s58H8xSEqd"
   },
   "outputs": [
    {
     "data": {
      "image/png": "[encoded data removed]",
      "text/plain": [
       "<Figure size 576x288 with 1 Axes>"
      ]
     },
     "metadata": {
      "needs_background": "light"
     },
     "output_type": "display_data"
    }
   ],
   "source": [
    "# fetching dropoff counts grouped by hour\n",
    "drop_rides_count = df_new.groupby('dropoff_hour').count()['VendorID']\n",
    "\n",
    "fig, ax = plt.subplots(figsize=(8,4))\n",
    "plt.bar(x=drop_rides_count.index,height=drop_rides_count.values,edgecolor = \"black\",linewidth=1)\n",
    "\n",
    "bins=24\n",
    "\n",
    "ax.set_title('Dropoff Hour Rides Distribution',fontsize=20)\n",
    "ax.set_xlabel('dropoff hour')\n",
    "ax.set_ylabel('Rides')\n",
    "ax.set_xticks(range(bins))\n",
    "ax.spines['right'].set_visible(False)\n",
    "ax.spines['top'].set_visible(False)\n",
    "\n",
    "\n",
    "plt.show()\n",
    "plt.show()"
   ]
  },
  {
   "cell_type": "markdown",
   "metadata": {},
   "source": [
    "<div class=\"alert alert-block alert-success\">\n",
    "<strong>Insights</strong> - The pattern of pickup is same as the pattern of drop off. This makes sense as from trip distance histogram we can see that most of trips occured within 2 mile range. Also, we can see that most of the pickup and dropoff occurs between 6pm - 8pm whereas least happens early in the morning i.e. between 2am and 7am"
   ]
  },
  {
   "cell_type": "code",
   "execution_count": 23,
   "metadata": {},
   "outputs": [],
   "source": [
    "# calculating mean of extra amount per hour\n",
    "extra = df_new.groupby('dropoff_hour').mean()['extra']"
   ]
  },
  {
   "cell_type": "code",
   "execution_count": 24,
   "metadata": {},
   "outputs": [
    {
     "data": {
      "image/png": "[encoded data removed]",
      "text/plain": [
       "<Figure size 576x288 with 1 Axes>"
      ]
     },
     "metadata": {
      "needs_background": "light"
     },
     "output_type": "display_data"
    }
   ],
   "source": [
    "fig, ax = plt.subplots(figsize=(8,4))\n",
    "ax.bar(x=extra.index,height=extra.values,edgecolor = \"black\",linewidth=1)\n",
    "\n",
    "ax.set_xticks(range(24))\n",
    "\n",
    "\n",
    "ax.set_xlabel('pickup hour')\n",
    "ax.set_ylabel('Extra')\n",
    "ax.set_title('Extra Amount Histogram',fontsize = 20)\n",
    "ax.spines['right'].set_visible(False)\n",
    "ax.spines['top'].set_visible(False)\n",
    "\n",
    "\n",
    "plt.show()"
   ]
  },
  {
   "cell_type": "markdown",
   "metadata": {},
   "source": [
    "<div class=\"alert alert-block alert-success\">\n",
    "<strong>Insights</strong> - Extra amount is neglegible between 7am to 3pm."
   ]
  },
  {
   "cell_type": "markdown",
   "metadata": {
    "id": "31r7tt08yMBO"
   },
   "source": [
    "# Model"
   ]
  },
  {
   "cell_type": "markdown",
   "metadata": {},
   "source": [
    "#### Answer 4"
   ]
  },
  {
   "cell_type": "markdown",
   "metadata": {},
   "source": [
    "<div class=\"alert alert-block alert-info\">\n",
    "    \n",
    "- Since tip for cash payment is not recorded therefore, we can build the model using card type data only\n",
    "\n"
   ]
  },
  {
   "cell_type": "code",
   "execution_count": 25,
   "metadata": {},
   "outputs": [],
   "source": [
    "# fetching data for which payment_type is not equal to 2 as payment_type 2 denotes cash\n",
    "\n",
    "df_tip = df_new[df_new['payment_type']!=2]\n",
    "X = df_tip.drop(['tip_amount'],axis=1)\n",
    "y = df_tip['tip_amount']"
   ]
  },
  {
   "cell_type": "code",
   "execution_count": 26,
   "metadata": {
    "id": "UUXpYjdA2-Ll"
   },
   "outputs": [],
   "source": [
    "# Performing train, test and validation split\n",
    "\n",
    "X_train_full, X_test, y_train_full, y_test = train_test_split(X, y, test_size=0.1)\n",
    "X_train, X_valid, y_train, y_valid = train_test_split(X_train_full, y_train_full, test_size=0.1)\n",
    "\n",
    "X_train =  X_train.reset_index(drop=True)\n",
    "X_valid =  X_valid.reset_index(drop=True)\n",
    "X_test =  X_test.reset_index(drop=True)\n",
    "X_train_full =  X_train_full.reset_index(drop=True)\n",
    "\n",
    "y_train =  y_train.reset_index(drop=True)\n",
    "y_valid =  y_valid.reset_index(drop=True)\n",
    "y_test =  y_test.reset_index(drop=True)\n",
    "y_train_full =  y_train_full.reset_index(drop=True)"
   ]
  },
  {
   "cell_type": "markdown",
   "metadata": {},
   "source": [
    "<div class=\"alert alert-block alert-info\">\n",
    "\n",
    "- Predicting the exact tip amount is a regression problem and even after cleaning the data, there is a high possibilty that some noise is still present in the data. This noise can heavily influence the regression model and might lead to incorrect results\n",
    "- Therefore, converting this problem to a multi-class classification problem as this will club all the values in few classes and make it a much simpler problem to solve. The model thus trained, will predict the range of tip that a driver can expect. \n",
    "- Tip amount is segreagated into 4 classes i.e. 0-1, 1-2, 2-3, and 3+"
   ]
  },
  {
   "cell_type": "code",
   "execution_count": 27,
   "metadata": {
    "id": "OlH6c8rAzJau"
   },
   "outputs": [],
   "source": [
    "#Label encoding the categorical features that are of type string\n",
    "\n",
    "def enc_cat_feat(train,test=None):\n",
    "    cat_cols = list(train.dtypes[train.dtypes == object].index)\n",
    "    for col in cat_cols:\n",
    "        le_col = LabelEncoder().fit(train[col])\n",
    "        train[col] = le_col.transform(train[col])\n",
    "        if test is not None:\n",
    "            test[col] = le_col.transform(test[col])\n",
    "\n",
    "\n",
    "enc_cat_feat(X_train,X_valid)"
   ]
  },
  {
   "cell_type": "code",
   "execution_count": 28,
   "metadata": {},
   "outputs": [],
   "source": [
    "# function to label tip amount in train and valid set\n",
    "\n",
    "def labeller(df):\n",
    "    labels = ['0-1','1-2','2-3']\n",
    "    labels_range = [[0, 1], [1, 2], [2, 3]]\n",
    "\n",
    "    df['tip_label'] = '3+'\n",
    "    for i, label in enumerate(labels):\n",
    "        mask = ((df['tip_amount'] >= labels_range[i][0]) & (df['tip_amount'] < labels_range[i][1]))\n",
    "        df['tip_label'][mask] = label\n",
    "        \n",
    "def label_tip(X,y):\n",
    "    merged = pd.concat([X,y],axis=1)\n",
    "    labeller(merged)\n",
    "    X_proc = merged.drop(['tip_amount','tip_label'],axis=1)\n",
    "    y_proc = merged['tip_label']\n",
    "    \n",
    "    return X_proc,y_proc\n",
    "\n",
    "#Label encoding the label\n",
    "\n",
    "def label_encode(y_train,y_test,encoder):\n",
    "    enc = encoder.fit(y_train)\n",
    "    y_train = pd.Series(enc.transform(y_train))\n",
    "    y_test = pd.Series(enc.transform(y_test))\n",
    "    y_train.name = 'tip_label'\n",
    "    y_test.name = 'tip_label'\n",
    "    \n",
    "    return y_train, y_test\n",
    "\n",
    "X_train,y_train = label_tip(X_train,y_train)\n",
    "X_valid,y_valid = label_tip(X_valid,y_valid)\n",
    "    \n",
    "le_label = LabelEncoder()\n",
    "y_train, y_valid = label_encode(y_train,y_valid,le_label)\n"
   ]
  },
  {
   "cell_type": "markdown",
   "metadata": {},
   "source": [
    "<div class=\"alert alert-block alert-info\">\n",
    "From above analysis we saw that fare_amount, mta_tax, improvement_surcharge, total_amount, trip_type, and dropoff_hour has high correlation with other features. Also lpep_pickup_datetime and lpep_dropoff_datetime, will have high correlation with pickup_hour and dropoff_hour respectively they were extracted from the former. Therefore dropping the highly correlated features from the dataset"
   ]
  },
  {
   "cell_type": "code",
   "execution_count": 29,
   "metadata": {
    "id": "_hBotoPdw7ET"
   },
   "outputs": [],
   "source": [
    "drop_cols = ['fare_amount','mta_tax','improvement_surcharge','total_amount','lpep_pickup_datetime',\n",
    "             'lpep_dropoff_datetime','dropoff_hour','trip_type']"
   ]
  },
  {
   "cell_type": "code",
   "execution_count": 30,
   "metadata": {
    "id": "LAp0dOukrxNa"
   },
   "outputs": [],
   "source": [
    "X_train = X_train.drop(drop_cols, axis=1)\n",
    "X_valid = X_valid.drop(drop_cols, axis=1)\n"
   ]
  },
  {
   "cell_type": "code",
   "execution_count": 31,
   "metadata": {
    "colab": {
     "base_uri": "https://localhost:8080/",
     "height": 344
    },
    "id": "1KXDZNvyyIdU",
    "outputId": "3ae79aba-70fa-4488-a0d9-488e3e9eafa6"
   },
   "outputs": [
    {
     "data": {
      "image/png": "[encoded data removed]",
      "text/plain": [
       "<Figure size 576x432 with 2 Axes>"
      ]
     },
     "metadata": {
      "needs_background": "light"
     },
     "output_type": "display_data"
    },
    {
     "data": {
      "image/png": "[encoded data removed]",
      "text/plain": [
       "<Figure size 576x432 with 2 Axes>"
      ]
     },
     "metadata": {
      "needs_background": "light"
     },
     "output_type": "display_data"
    }
   ],
   "source": [
    "cor_heatmap(X_train,title = 'Heatmap of Correlation of columns in training dataset')\n",
    "cor_heatmap(X_valid,title = 'Heatmap of Correlation of columns in validation dataset')"
   ]
  },
  {
   "cell_type": "markdown",
   "metadata": {},
   "source": [
    "<div class=\"alert alert-block alert-info\">\n",
    "Now we can see that none of the columns in the feature space are highly correlated with each other in train as well as validation dataset. We can now proceed towards training the model"
   ]
  },
  {
   "cell_type": "code",
   "execution_count": 32,
   "metadata": {},
   "outputs": [
    {
     "data": {
      "image/png": "[encoded data removed]",
      "text/plain": [
       "<Figure size 432x288 with 1 Axes>"
      ]
     },
     "metadata": {
      "needs_background": "light"
     },
     "output_type": "display_data"
    }
   ],
   "source": [
    "# plotting distribution of tip category in y_train\n",
    "\n",
    "plot_hist(y_train,6,title='Tip Category Histogram',\n",
    "          xlabel = 'Tip Category',ylabel='Frequency')"
   ]
  },
  {
   "cell_type": "markdown",
   "metadata": {},
   "source": [
    "<div class=\"alert alert-block alert-info\">\n",
    "We can see that y_train is dominated by category 1. Therefore we need to perform upsampling so that we have equal representation of all the categories"
   ]
  },
  {
   "cell_type": "code",
   "execution_count": 33,
   "metadata": {
    "id": "LWu4xoUw_bFF"
   },
   "outputs": [],
   "source": [
    "# function to upsample the data\n",
    "def sample(X_tra,y_tra):\n",
    "\n",
    "    plot_hist(y_tra,6,title='before SMOTE',xlabel='categories',ylabel='count')\n",
    "    ref = pd.concat([X_tra,y_tra],axis=1)\n",
    "\n",
    "    sm = SMOTE()\n",
    "    X_res, y_res = sm.fit_resample(X_tra, y_tra)\n",
    "    plot_hist(y_res,6,title='after SMOTE',xlabel='categories',ylabel='count')\n",
    "    return X_res,y_res"
   ]
  },
  {
   "cell_type": "markdown",
   "metadata": {},
   "source": [
    "<div class=\"alert alert-block alert-info\">\n",
    "The above function is used to perform sampling. In this function, initially the dominating class is under sampled so that it's count is equal to the total count of all the under represented class. After that SMOTE is applied on under represented class so that the count of all the class becomes the same"
   ]
  },
  {
   "cell_type": "code",
   "execution_count": 34,
   "metadata": {},
   "outputs": [
    {
     "data": {
      "image/png": "[encoded data removed]",
      "text/plain": [
       "<Figure size 432x288 with 1 Axes>"
      ]
     },
     "metadata": {
      "needs_background": "light"
     },
     "output_type": "display_data"
    },
    {
     "data": {
      "image/png": "[encoded data removed]",
      "text/plain": [
       "<Figure size 432x288 with 1 Axes>"
      ]
     },
     "metadata": {
      "needs_background": "light"
     },
     "output_type": "display_data"
    }
   ],
   "source": [
    "X_res,y_res = sample(X_train,y_train)"
   ]
  },
  {
   "cell_type": "code",
   "execution_count": 35,
   "metadata": {
    "id": "FZPeiUKd_bBp"
   },
   "outputs": [
    {
     "name": "stderr",
     "output_type": "stream",
     "text": [
      "[Parallel(n_jobs=-1)]: Using backend ThreadingBackend with 8 concurrent workers.\n",
      "[Parallel(n_jobs=-1)]: Done  20 out of  20 | elapsed:    1.4s finished\n",
      "[Parallel(n_jobs=8)]: Using backend ThreadingBackend with 8 concurrent workers.\n",
      "[Parallel(n_jobs=8)]: Done  20 out of  20 | elapsed:    0.2s finished\n",
      "[Parallel(n_jobs=8)]: Using backend ThreadingBackend with 8 concurrent workers.\n",
      "[Parallel(n_jobs=8)]: Done  20 out of  20 | elapsed:    0.2s finished\n",
      "[Parallel(n_jobs=8)]: Using backend ThreadingBackend with 8 concurrent workers.\n",
      "[Parallel(n_jobs=8)]: Done  20 out of  20 | elapsed:    0.0s finished\n",
      "[Parallel(n_jobs=8)]: Using backend ThreadingBackend with 8 concurrent workers.\n",
      "[Parallel(n_jobs=8)]: Done  20 out of  20 | elapsed:    0.0s finished\n"
     ]
    },
    {
     "name": "stdout",
     "output_type": "stream",
     "text": [
      "min_samples_leaf 17, max_features 0.2, max_depth 8\n",
      "   train loss 1.09, val loss 1.08\n",
      "   train accuracy 0.54, val accuracy 0.59\n"
     ]
    },
    {
     "name": "stderr",
     "output_type": "stream",
     "text": [
      "[Parallel(n_jobs=-1)]: Using backend ThreadingBackend with 8 concurrent workers.\n",
      "[Parallel(n_jobs=-1)]: Done  20 out of  20 | elapsed:    3.0s finished\n",
      "[Parallel(n_jobs=8)]: Using backend ThreadingBackend with 8 concurrent workers.\n",
      "[Parallel(n_jobs=8)]: Done  20 out of  20 | elapsed:    0.4s finished\n",
      "[Parallel(n_jobs=8)]: Using backend ThreadingBackend with 8 concurrent workers.\n",
      "[Parallel(n_jobs=8)]: Done  20 out of  20 | elapsed:    0.4s finished\n",
      "[Parallel(n_jobs=8)]: Using backend ThreadingBackend with 8 concurrent workers.\n",
      "[Parallel(n_jobs=8)]: Done  20 out of  20 | elapsed:    0.0s finished\n",
      "[Parallel(n_jobs=8)]: Using backend ThreadingBackend with 8 concurrent workers.\n",
      "[Parallel(n_jobs=8)]: Done  20 out of  20 | elapsed:    0.0s finished\n"
     ]
    },
    {
     "name": "stdout",
     "output_type": "stream",
     "text": [
      "min_samples_leaf 11, max_features 0.3, max_depth 16\n",
      "   train loss 0.98, val loss 1.02\n",
      "   train accuracy 0.59, val accuracy 0.59\n"
     ]
    },
    {
     "name": "stderr",
     "output_type": "stream",
     "text": [
      "[Parallel(n_jobs=-1)]: Using backend ThreadingBackend with 8 concurrent workers.\n",
      "[Parallel(n_jobs=-1)]: Done  20 out of  20 | elapsed:    2.1s finished\n",
      "[Parallel(n_jobs=8)]: Using backend ThreadingBackend with 8 concurrent workers.\n",
      "[Parallel(n_jobs=8)]: Done  20 out of  20 | elapsed:    0.3s finished\n",
      "[Parallel(n_jobs=8)]: Using backend ThreadingBackend with 8 concurrent workers.\n",
      "[Parallel(n_jobs=8)]: Done  20 out of  20 | elapsed:    0.3s finished\n",
      "[Parallel(n_jobs=8)]: Using backend ThreadingBackend with 8 concurrent workers.\n",
      "[Parallel(n_jobs=8)]: Done  20 out of  20 | elapsed:    0.0s finished\n",
      "[Parallel(n_jobs=8)]: Using backend ThreadingBackend with 8 concurrent workers.\n",
      "[Parallel(n_jobs=8)]: Done  20 out of  20 | elapsed:    0.0s finished\n"
     ]
    },
    {
     "name": "stdout",
     "output_type": "stream",
     "text": [
      "min_samples_leaf 18, max_features 0.2, max_depth 12\n",
      "   train loss 1.06, val loss 1.06\n",
      "   train accuracy 0.56, val accuracy 0.59\n"
     ]
    },
    {
     "name": "stderr",
     "output_type": "stream",
     "text": [
      "[Parallel(n_jobs=-1)]: Using backend ThreadingBackend with 8 concurrent workers.\n",
      "[Parallel(n_jobs=-1)]: Done  20 out of  20 | elapsed:    5.2s finished\n",
      "[Parallel(n_jobs=8)]: Using backend ThreadingBackend with 8 concurrent workers.\n",
      "[Parallel(n_jobs=8)]: Done  20 out of  20 | elapsed:    0.4s finished\n",
      "[Parallel(n_jobs=8)]: Using backend ThreadingBackend with 8 concurrent workers.\n",
      "[Parallel(n_jobs=8)]: Done  20 out of  20 | elapsed:    0.4s finished\n",
      "[Parallel(n_jobs=8)]: Using backend ThreadingBackend with 8 concurrent workers.\n",
      "[Parallel(n_jobs=8)]: Done  20 out of  20 | elapsed:    0.0s finished\n",
      "[Parallel(n_jobs=8)]: Using backend ThreadingBackend with 8 concurrent workers.\n",
      "[Parallel(n_jobs=8)]: Done  20 out of  20 | elapsed:    0.0s finished\n"
     ]
    },
    {
     "name": "stdout",
     "output_type": "stream",
     "text": [
      "min_samples_leaf 7, max_features 0.5, max_depth 15\n",
      "   train loss 0.97, val loss 1.01\n",
      "   train accuracy 0.59, val accuracy 0.59\n"
     ]
    },
    {
     "name": "stderr",
     "output_type": "stream",
     "text": [
      "[Parallel(n_jobs=-1)]: Using backend ThreadingBackend with 8 concurrent workers.\n",
      "[Parallel(n_jobs=-1)]: Done  20 out of  20 | elapsed:    2.4s finished\n",
      "[Parallel(n_jobs=8)]: Using backend ThreadingBackend with 8 concurrent workers.\n",
      "[Parallel(n_jobs=8)]: Done  20 out of  20 | elapsed:    0.3s finished\n",
      "[Parallel(n_jobs=8)]: Using backend ThreadingBackend with 8 concurrent workers.\n",
      "[Parallel(n_jobs=8)]: Done  20 out of  20 | elapsed:    0.3s finished\n",
      "[Parallel(n_jobs=8)]: Using backend ThreadingBackend with 8 concurrent workers.\n",
      "[Parallel(n_jobs=8)]: Done  20 out of  20 | elapsed:    0.0s finished\n",
      "[Parallel(n_jobs=8)]: Using backend ThreadingBackend with 8 concurrent workers.\n",
      "[Parallel(n_jobs=8)]: Done  20 out of  20 | elapsed:    0.0s finished\n"
     ]
    },
    {
     "name": "stdout",
     "output_type": "stream",
     "text": [
      "min_samples_leaf 16, max_features 0.3, max_depth 12\n",
      "   train loss 1.05, val loss 1.05\n",
      "   train accuracy 0.56, val accuracy 0.59\n"
     ]
    },
    {
     "name": "stderr",
     "output_type": "stream",
     "text": [
      "[Parallel(n_jobs=-1)]: Using backend ThreadingBackend with 8 concurrent workers.\n",
      "[Parallel(n_jobs=-1)]: Done  20 out of  20 | elapsed:    2.0s finished\n",
      "[Parallel(n_jobs=8)]: Using backend ThreadingBackend with 8 concurrent workers.\n",
      "[Parallel(n_jobs=8)]: Done  20 out of  20 | elapsed:    0.2s finished\n",
      "[Parallel(n_jobs=8)]: Using backend ThreadingBackend with 8 concurrent workers.\n",
      "[Parallel(n_jobs=8)]: Done  20 out of  20 | elapsed:    0.2s finished\n",
      "[Parallel(n_jobs=8)]: Using backend ThreadingBackend with 8 concurrent workers.\n",
      "[Parallel(n_jobs=8)]: Done  20 out of  20 | elapsed:    0.0s finished\n",
      "[Parallel(n_jobs=8)]: Using backend ThreadingBackend with 8 concurrent workers.\n",
      "[Parallel(n_jobs=8)]: Done  20 out of  20 | elapsed:    0.0s finished\n"
     ]
    },
    {
     "name": "stdout",
     "output_type": "stream",
     "text": [
      "min_samples_leaf 10, max_features 0.3, max_depth 7\n",
      "   train loss 1.08, val loss 1.08\n",
      "   train accuracy 0.54, val accuracy 0.59\n"
     ]
    },
    {
     "name": "stderr",
     "output_type": "stream",
     "text": [
      "[Parallel(n_jobs=-1)]: Using backend ThreadingBackend with 8 concurrent workers.\n",
      "[Parallel(n_jobs=-1)]: Done  20 out of  20 | elapsed:    2.3s finished\n",
      "[Parallel(n_jobs=8)]: Using backend ThreadingBackend with 8 concurrent workers.\n",
      "[Parallel(n_jobs=8)]: Done  20 out of  20 | elapsed:    0.3s finished\n",
      "[Parallel(n_jobs=8)]: Using backend ThreadingBackend with 8 concurrent workers.\n",
      "[Parallel(n_jobs=8)]: Done  20 out of  20 | elapsed:    0.3s finished\n",
      "[Parallel(n_jobs=8)]: Using backend ThreadingBackend with 8 concurrent workers.\n",
      "[Parallel(n_jobs=8)]: Done  20 out of  20 | elapsed:    0.0s finished\n",
      "[Parallel(n_jobs=8)]: Using backend ThreadingBackend with 8 concurrent workers.\n",
      "[Parallel(n_jobs=8)]: Done  20 out of  20 | elapsed:    0.0s finished\n"
     ]
    },
    {
     "name": "stdout",
     "output_type": "stream",
     "text": [
      "min_samples_leaf 8, max_features 0.3, max_depth 9\n",
      "   train loss 1.05, val loss 1.05\n",
      "   train accuracy 0.56, val accuracy 0.59\n"
     ]
    },
    {
     "name": "stderr",
     "output_type": "stream",
     "text": [
      "[Parallel(n_jobs=-1)]: Using backend ThreadingBackend with 8 concurrent workers.\n",
      "[Parallel(n_jobs=-1)]: Done  20 out of  20 | elapsed:    2.5s finished\n",
      "[Parallel(n_jobs=8)]: Using backend ThreadingBackend with 8 concurrent workers.\n",
      "[Parallel(n_jobs=8)]: Done  20 out of  20 | elapsed:    0.3s finished\n",
      "[Parallel(n_jobs=8)]: Using backend ThreadingBackend with 8 concurrent workers.\n",
      "[Parallel(n_jobs=8)]: Done  20 out of  20 | elapsed:    0.4s finished\n",
      "[Parallel(n_jobs=8)]: Using backend ThreadingBackend with 8 concurrent workers.\n",
      "[Parallel(n_jobs=8)]: Done  20 out of  20 | elapsed:    0.0s finished\n",
      "[Parallel(n_jobs=8)]: Using backend ThreadingBackend with 8 concurrent workers.\n",
      "[Parallel(n_jobs=8)]: Done  20 out of  20 | elapsed:    0.0s finished\n"
     ]
    },
    {
     "name": "stdout",
     "output_type": "stream",
     "text": [
      "min_samples_leaf 11, max_features 0.2, max_depth 13\n",
      "   train loss 1.03, val loss 1.04\n",
      "   train accuracy 0.56, val accuracy 0.59\n"
     ]
    },
    {
     "name": "stderr",
     "output_type": "stream",
     "text": [
      "[Parallel(n_jobs=-1)]: Using backend ThreadingBackend with 8 concurrent workers.\n",
      "[Parallel(n_jobs=-1)]: Done  20 out of  20 | elapsed:    3.3s finished\n",
      "[Parallel(n_jobs=8)]: Using backend ThreadingBackend with 8 concurrent workers.\n",
      "[Parallel(n_jobs=8)]: Done  20 out of  20 | elapsed:    0.3s finished\n",
      "[Parallel(n_jobs=8)]: Using backend ThreadingBackend with 8 concurrent workers.\n",
      "[Parallel(n_jobs=8)]: Done  20 out of  20 | elapsed:    0.3s finished\n",
      "[Parallel(n_jobs=8)]: Using backend ThreadingBackend with 8 concurrent workers.\n",
      "[Parallel(n_jobs=8)]: Done  20 out of  20 | elapsed:    0.0s finished\n",
      "[Parallel(n_jobs=8)]: Using backend ThreadingBackend with 8 concurrent workers.\n",
      "[Parallel(n_jobs=8)]: Done  20 out of  20 | elapsed:    0.0s finished\n"
     ]
    },
    {
     "name": "stdout",
     "output_type": "stream",
     "text": [
      "min_samples_leaf 12, max_features 0.4, max_depth 10\n",
      "   train loss 1.03, val loss 1.03\n",
      "   train accuracy 0.56, val accuracy 0.59\n"
     ]
    },
    {
     "name": "stderr",
     "output_type": "stream",
     "text": [
      "[Parallel(n_jobs=-1)]: Using backend ThreadingBackend with 8 concurrent workers.\n",
      "[Parallel(n_jobs=-1)]: Done  20 out of  20 | elapsed:    4.5s finished\n",
      "[Parallel(n_jobs=8)]: Using backend ThreadingBackend with 8 concurrent workers.\n",
      "[Parallel(n_jobs=8)]: Done  20 out of  20 | elapsed:    0.5s finished\n",
      "[Parallel(n_jobs=8)]: Using backend ThreadingBackend with 8 concurrent workers.\n",
      "[Parallel(n_jobs=8)]: Done  20 out of  20 | elapsed:    0.5s finished\n",
      "[Parallel(n_jobs=8)]: Using backend ThreadingBackend with 8 concurrent workers.\n",
      "[Parallel(n_jobs=8)]: Done  20 out of  20 | elapsed:    0.0s finished\n",
      "[Parallel(n_jobs=8)]: Using backend ThreadingBackend with 8 concurrent workers.\n",
      "[Parallel(n_jobs=8)]: Done  20 out of  20 | elapsed:    0.0s finished\n"
     ]
    },
    {
     "name": "stdout",
     "output_type": "stream",
     "text": [
      "min_samples_leaf 14, max_features 0.4, max_depth 17\n",
      "   train loss 0.95, val loss 1.01\n",
      "   train accuracy 0.60, val accuracy 0.59\n"
     ]
    },
    {
     "name": "stderr",
     "output_type": "stream",
     "text": [
      "[Parallel(n_jobs=-1)]: Using backend ThreadingBackend with 8 concurrent workers.\n",
      "[Parallel(n_jobs=-1)]: Done  20 out of  20 | elapsed:    2.0s finished\n",
      "[Parallel(n_jobs=8)]: Using backend ThreadingBackend with 8 concurrent workers.\n",
      "[Parallel(n_jobs=8)]: Done  20 out of  20 | elapsed:    0.3s finished\n",
      "[Parallel(n_jobs=8)]: Using backend ThreadingBackend with 8 concurrent workers.\n",
      "[Parallel(n_jobs=8)]: Done  20 out of  20 | elapsed:    0.3s finished\n",
      "[Parallel(n_jobs=8)]: Using backend ThreadingBackend with 8 concurrent workers.\n",
      "[Parallel(n_jobs=8)]: Done  20 out of  20 | elapsed:    0.0s finished\n",
      "[Parallel(n_jobs=8)]: Using backend ThreadingBackend with 8 concurrent workers.\n",
      "[Parallel(n_jobs=8)]: Done  20 out of  20 | elapsed:    0.0s finished\n"
     ]
    },
    {
     "name": "stdout",
     "output_type": "stream",
     "text": [
      "min_samples_leaf 9, max_features 0.2, max_depth 11\n",
      "   train loss 1.06, val loss 1.06\n",
      "   train accuracy 0.56, val accuracy 0.59\n"
     ]
    },
    {
     "name": "stderr",
     "output_type": "stream",
     "text": [
      "[Parallel(n_jobs=-1)]: Using backend ThreadingBackend with 8 concurrent workers.\n",
      "[Parallel(n_jobs=-1)]: Done  20 out of  20 | elapsed:    2.4s finished\n",
      "[Parallel(n_jobs=8)]: Using backend ThreadingBackend with 8 concurrent workers.\n",
      "[Parallel(n_jobs=8)]: Done  20 out of  20 | elapsed:    0.2s finished\n",
      "[Parallel(n_jobs=8)]: Using backend ThreadingBackend with 8 concurrent workers.\n",
      "[Parallel(n_jobs=8)]: Done  20 out of  20 | elapsed:    0.3s finished\n",
      "[Parallel(n_jobs=8)]: Using backend ThreadingBackend with 8 concurrent workers.\n",
      "[Parallel(n_jobs=8)]: Done  20 out of  20 | elapsed:    0.0s finished\n",
      "[Parallel(n_jobs=8)]: Using backend ThreadingBackend with 8 concurrent workers.\n",
      "[Parallel(n_jobs=8)]: Done  20 out of  20 | elapsed:    0.0s finished\n"
     ]
    },
    {
     "name": "stdout",
     "output_type": "stream",
     "text": [
      "min_samples_leaf 10, max_features 0.4, max_depth 9\n",
      "   train loss 1.05, val loss 1.05\n",
      "   train accuracy 0.56, val accuracy 0.59\n"
     ]
    },
    {
     "name": "stderr",
     "output_type": "stream",
     "text": [
      "[Parallel(n_jobs=-1)]: Using backend ThreadingBackend with 8 concurrent workers.\n",
      "[Parallel(n_jobs=-1)]: Done  20 out of  20 | elapsed:    1.5s finished\n",
      "[Parallel(n_jobs=8)]: Using backend ThreadingBackend with 8 concurrent workers.\n",
      "[Parallel(n_jobs=8)]: Done  20 out of  20 | elapsed:    0.3s finished\n",
      "[Parallel(n_jobs=8)]: Using backend ThreadingBackend with 8 concurrent workers.\n",
      "[Parallel(n_jobs=8)]: Done  20 out of  20 | elapsed:    0.3s finished\n",
      "[Parallel(n_jobs=8)]: Using backend ThreadingBackend with 8 concurrent workers.\n",
      "[Parallel(n_jobs=8)]: Done  20 out of  20 | elapsed:    0.0s finished\n",
      "[Parallel(n_jobs=8)]: Using backend ThreadingBackend with 8 concurrent workers.\n",
      "[Parallel(n_jobs=8)]: Done  20 out of  20 | elapsed:    0.0s finished\n"
     ]
    },
    {
     "name": "stdout",
     "output_type": "stream",
     "text": [
      "min_samples_leaf 13, max_features 0.1, max_depth 11\n",
      "   train loss 1.11, val loss 1.12\n",
      "   train accuracy 0.55, val accuracy 0.59\n"
     ]
    },
    {
     "name": "stderr",
     "output_type": "stream",
     "text": [
      "[Parallel(n_jobs=-1)]: Using backend ThreadingBackend with 8 concurrent workers.\n",
      "[Parallel(n_jobs=-1)]: Done  20 out of  20 | elapsed:    1.4s finished\n",
      "[Parallel(n_jobs=8)]: Using backend ThreadingBackend with 8 concurrent workers.\n",
      "[Parallel(n_jobs=8)]: Done  20 out of  20 | elapsed:    0.3s finished\n",
      "[Parallel(n_jobs=8)]: Using backend ThreadingBackend with 8 concurrent workers.\n",
      "[Parallel(n_jobs=8)]: Done  20 out of  20 | elapsed:    0.3s finished\n",
      "[Parallel(n_jobs=8)]: Using backend ThreadingBackend with 8 concurrent workers.\n",
      "[Parallel(n_jobs=8)]: Done  20 out of  20 | elapsed:    0.0s finished\n",
      "[Parallel(n_jobs=8)]: Using backend ThreadingBackend with 8 concurrent workers.\n",
      "[Parallel(n_jobs=8)]: Done  20 out of  20 | elapsed:    0.0s finished\n"
     ]
    },
    {
     "name": "stdout",
     "output_type": "stream",
     "text": [
      "min_samples_leaf 5, max_features 0.1, max_depth 10\n",
      "   train loss 1.12, val loss 1.12\n",
      "   train accuracy 0.55, val accuracy 0.59\n"
     ]
    },
    {
     "name": "stderr",
     "output_type": "stream",
     "text": [
      "[Parallel(n_jobs=-1)]: Using backend ThreadingBackend with 8 concurrent workers.\n",
      "[Parallel(n_jobs=-1)]: Done  20 out of  20 | elapsed:    4.0s finished\n",
      "[Parallel(n_jobs=8)]: Using backend ThreadingBackend with 8 concurrent workers.\n",
      "[Parallel(n_jobs=8)]: Done  20 out of  20 | elapsed:    0.3s finished\n",
      "[Parallel(n_jobs=8)]: Using backend ThreadingBackend with 8 concurrent workers.\n",
      "[Parallel(n_jobs=8)]: Done  20 out of  20 | elapsed:    0.3s finished\n",
      "[Parallel(n_jobs=8)]: Using backend ThreadingBackend with 8 concurrent workers.\n",
      "[Parallel(n_jobs=8)]: Done  20 out of  20 | elapsed:    0.0s finished\n",
      "[Parallel(n_jobs=8)]: Using backend ThreadingBackend with 8 concurrent workers.\n",
      "[Parallel(n_jobs=8)]: Done  20 out of  20 | elapsed:    0.0s finished\n"
     ]
    },
    {
     "name": "stdout",
     "output_type": "stream",
     "text": [
      "min_samples_leaf 8, max_features 0.5, max_depth 10\n",
      "   train loss 1.03, val loss 1.03\n",
      "   train accuracy 0.56, val accuracy 0.59\n"
     ]
    },
    {
     "name": "stderr",
     "output_type": "stream",
     "text": [
      "[Parallel(n_jobs=-1)]: Using backend ThreadingBackend with 8 concurrent workers.\n",
      "[Parallel(n_jobs=-1)]: Done  20 out of  20 | elapsed:    4.6s finished\n",
      "[Parallel(n_jobs=8)]: Using backend ThreadingBackend with 8 concurrent workers.\n",
      "[Parallel(n_jobs=8)]: Done  20 out of  20 | elapsed:    0.5s finished\n",
      "[Parallel(n_jobs=8)]: Using backend ThreadingBackend with 8 concurrent workers.\n",
      "[Parallel(n_jobs=8)]: Done  20 out of  20 | elapsed:    0.6s finished\n",
      "[Parallel(n_jobs=8)]: Using backend ThreadingBackend with 8 concurrent workers.\n",
      "[Parallel(n_jobs=8)]: Done  20 out of  20 | elapsed:    0.0s finished\n",
      "[Parallel(n_jobs=8)]: Using backend ThreadingBackend with 8 concurrent workers.\n",
      "[Parallel(n_jobs=8)]: Done  20 out of  20 | elapsed:    0.0s finished\n"
     ]
    },
    {
     "name": "stdout",
     "output_type": "stream",
     "text": [
      "min_samples_leaf 9, max_features 0.5, max_depth 18\n",
      "   train loss 0.93, val loss 1.01\n",
      "   train accuracy 0.61, val accuracy 0.59\n"
     ]
    },
    {
     "name": "stderr",
     "output_type": "stream",
     "text": [
      "[Parallel(n_jobs=-1)]: Using backend ThreadingBackend with 8 concurrent workers.\n",
      "[Parallel(n_jobs=-1)]: Done  20 out of  20 | elapsed:    3.8s finished\n",
      "[Parallel(n_jobs=8)]: Using backend ThreadingBackend with 8 concurrent workers.\n",
      "[Parallel(n_jobs=8)]: Done  20 out of  20 | elapsed:    0.6s finished\n",
      "[Parallel(n_jobs=8)]: Using backend ThreadingBackend with 8 concurrent workers.\n",
      "[Parallel(n_jobs=8)]: Done  20 out of  20 | elapsed:    0.6s finished\n",
      "[Parallel(n_jobs=8)]: Using backend ThreadingBackend with 8 concurrent workers.\n",
      "[Parallel(n_jobs=8)]: Done  20 out of  20 | elapsed:    0.0s finished\n",
      "[Parallel(n_jobs=8)]: Using backend ThreadingBackend with 8 concurrent workers.\n",
      "[Parallel(n_jobs=8)]: Done  20 out of  20 | elapsed:    0.0s finished\n"
     ]
    },
    {
     "name": "stdout",
     "output_type": "stream",
     "text": [
      "min_samples_leaf 8, max_features 0.3, max_depth 19\n",
      "   train loss 0.93, val loss 1.01\n",
      "   train accuracy 0.61, val accuracy 0.59\n"
     ]
    },
    {
     "name": "stderr",
     "output_type": "stream",
     "text": [
      "[Parallel(n_jobs=-1)]: Using backend ThreadingBackend with 8 concurrent workers.\n",
      "[Parallel(n_jobs=-1)]: Done  20 out of  20 | elapsed:    1.6s finished\n",
      "[Parallel(n_jobs=8)]: Using backend ThreadingBackend with 8 concurrent workers.\n",
      "[Parallel(n_jobs=8)]: Done  20 out of  20 | elapsed:    0.2s finished\n",
      "[Parallel(n_jobs=8)]: Using backend ThreadingBackend with 8 concurrent workers.\n",
      "[Parallel(n_jobs=8)]: Done  20 out of  20 | elapsed:    0.3s finished\n",
      "[Parallel(n_jobs=8)]: Using backend ThreadingBackend with 8 concurrent workers.\n",
      "[Parallel(n_jobs=8)]: Done  20 out of  20 | elapsed:    0.0s finished\n",
      "[Parallel(n_jobs=8)]: Using backend ThreadingBackend with 8 concurrent workers.\n",
      "[Parallel(n_jobs=8)]: Done  20 out of  20 | elapsed:    0.0s finished\n"
     ]
    },
    {
     "name": "stdout",
     "output_type": "stream",
     "text": [
      "min_samples_leaf 18, max_features 0.2, max_depth 8\n",
      "   train loss 1.10, val loss 1.09\n",
      "   train accuracy 0.55, val accuracy 0.59\n"
     ]
    },
    {
     "name": "stderr",
     "output_type": "stream",
     "text": [
      "[Parallel(n_jobs=-1)]: Using backend ThreadingBackend with 8 concurrent workers.\n",
      "[Parallel(n_jobs=-1)]: Done  20 out of  20 | elapsed:    2.2s finished\n",
      "[Parallel(n_jobs=8)]: Using backend ThreadingBackend with 8 concurrent workers.\n",
      "[Parallel(n_jobs=8)]: Done  20 out of  20 | elapsed:    0.3s finished\n",
      "[Parallel(n_jobs=8)]: Using backend ThreadingBackend with 8 concurrent workers.\n",
      "[Parallel(n_jobs=8)]: Done  20 out of  20 | elapsed:    0.3s finished\n",
      "[Parallel(n_jobs=8)]: Using backend ThreadingBackend with 8 concurrent workers.\n",
      "[Parallel(n_jobs=8)]: Done  20 out of  20 | elapsed:    0.0s finished\n",
      "[Parallel(n_jobs=8)]: Using backend ThreadingBackend with 8 concurrent workers.\n",
      "[Parallel(n_jobs=8)]: Done  20 out of  20 | elapsed:    0.0s finished\n"
     ]
    },
    {
     "name": "stdout",
     "output_type": "stream",
     "text": [
      "min_samples_leaf 18, max_features 0.2, max_depth 12\n",
      "   train loss 1.05, val loss 1.06\n",
      "   train accuracy 0.56, val accuracy 0.59\n"
     ]
    },
    {
     "name": "stderr",
     "output_type": "stream",
     "text": [
      "[Parallel(n_jobs=-1)]: Using backend ThreadingBackend with 8 concurrent workers.\n",
      "[Parallel(n_jobs=-1)]: Done  20 out of  20 | elapsed:    1.5s finished\n",
      "[Parallel(n_jobs=8)]: Using backend ThreadingBackend with 8 concurrent workers.\n",
      "[Parallel(n_jobs=8)]: Done  20 out of  20 | elapsed:    0.2s finished\n",
      "[Parallel(n_jobs=8)]: Using backend ThreadingBackend with 8 concurrent workers.\n",
      "[Parallel(n_jobs=8)]: Done  20 out of  20 | elapsed:    0.3s finished\n",
      "[Parallel(n_jobs=8)]: Using backend ThreadingBackend with 8 concurrent workers.\n",
      "[Parallel(n_jobs=8)]: Done  20 out of  20 | elapsed:    0.0s finished\n",
      "[Parallel(n_jobs=8)]: Using backend ThreadingBackend with 8 concurrent workers.\n",
      "[Parallel(n_jobs=8)]: Done  20 out of  20 | elapsed:    0.0s finished\n"
     ]
    },
    {
     "name": "stdout",
     "output_type": "stream",
     "text": [
      "min_samples_leaf 7, max_features 0.1, max_depth 10\n",
      "   train loss 1.13, val loss 1.13\n",
      "   train accuracy 0.55, val accuracy 0.58\n"
     ]
    },
    {
     "name": "stderr",
     "output_type": "stream",
     "text": [
      "[Parallel(n_jobs=-1)]: Using backend ThreadingBackend with 8 concurrent workers.\n",
      "[Parallel(n_jobs=-1)]: Done  20 out of  20 | elapsed:    4.7s finished\n",
      "[Parallel(n_jobs=8)]: Using backend ThreadingBackend with 8 concurrent workers.\n",
      "[Parallel(n_jobs=8)]: Done  20 out of  20 | elapsed:    0.5s finished\n",
      "[Parallel(n_jobs=8)]: Using backend ThreadingBackend with 8 concurrent workers.\n",
      "[Parallel(n_jobs=8)]: Done  20 out of  20 | elapsed:    0.6s finished\n",
      "[Parallel(n_jobs=8)]: Using backend ThreadingBackend with 8 concurrent workers.\n",
      "[Parallel(n_jobs=8)]: Done  20 out of  20 | elapsed:    0.0s finished\n",
      "[Parallel(n_jobs=8)]: Using backend ThreadingBackend with 8 concurrent workers.\n",
      "[Parallel(n_jobs=8)]: Done  20 out of  20 | elapsed:    0.0s finished\n"
     ]
    },
    {
     "name": "stdout",
     "output_type": "stream",
     "text": [
      "min_samples_leaf 10, max_features 0.4, max_depth 19\n",
      "   train loss 0.91, val loss 1.01\n",
      "   train accuracy 0.62, val accuracy 0.59\n"
     ]
    },
    {
     "name": "stderr",
     "output_type": "stream",
     "text": [
      "[Parallel(n_jobs=-1)]: Using backend ThreadingBackend with 8 concurrent workers.\n",
      "[Parallel(n_jobs=-1)]: Done  20 out of  20 | elapsed:    5.4s finished\n",
      "[Parallel(n_jobs=8)]: Using backend ThreadingBackend with 8 concurrent workers.\n",
      "[Parallel(n_jobs=8)]: Done  20 out of  20 | elapsed:    0.4s finished\n",
      "[Parallel(n_jobs=8)]: Using backend ThreadingBackend with 8 concurrent workers.\n",
      "[Parallel(n_jobs=8)]: Done  20 out of  20 | elapsed:    0.5s finished\n",
      "[Parallel(n_jobs=8)]: Using backend ThreadingBackend with 8 concurrent workers.\n",
      "[Parallel(n_jobs=8)]: Done  20 out of  20 | elapsed:    0.0s finished\n",
      "[Parallel(n_jobs=8)]: Using backend ThreadingBackend with 8 concurrent workers.\n",
      "[Parallel(n_jobs=8)]: Done  20 out of  20 | elapsed:    0.0s finished\n"
     ]
    },
    {
     "name": "stdout",
     "output_type": "stream",
     "text": [
      "min_samples_leaf 16, max_features 0.6, max_depth 15\n",
      "   train loss 0.97, val loss 1.01\n",
      "   train accuracy 0.59, val accuracy 0.59\n"
     ]
    },
    {
     "name": "stderr",
     "output_type": "stream",
     "text": [
      "[Parallel(n_jobs=-1)]: Using backend ThreadingBackend with 8 concurrent workers.\n",
      "[Parallel(n_jobs=-1)]: Done  20 out of  20 | elapsed:    1.8s finished\n",
      "[Parallel(n_jobs=8)]: Using backend ThreadingBackend with 8 concurrent workers.\n",
      "[Parallel(n_jobs=8)]: Done  20 out of  20 | elapsed:    0.3s finished\n",
      "[Parallel(n_jobs=8)]: Using backend ThreadingBackend with 8 concurrent workers.\n",
      "[Parallel(n_jobs=8)]: Done  20 out of  20 | elapsed:    0.3s finished\n",
      "[Parallel(n_jobs=8)]: Using backend ThreadingBackend with 8 concurrent workers.\n",
      "[Parallel(n_jobs=8)]: Done  20 out of  20 | elapsed:    0.0s finished\n",
      "[Parallel(n_jobs=8)]: Using backend ThreadingBackend with 8 concurrent workers.\n",
      "[Parallel(n_jobs=8)]: Done  20 out of  20 | elapsed:    0.0s finished\n"
     ]
    },
    {
     "name": "stdout",
     "output_type": "stream",
     "text": [
      "min_samples_leaf 9, max_features 0.1, max_depth 14\n",
      "   train loss 1.09, val loss 1.10\n",
      "   train accuracy 0.57, val accuracy 0.59\n"
     ]
    },
    {
     "name": "stderr",
     "output_type": "stream",
     "text": [
      "[Parallel(n_jobs=-1)]: Using backend ThreadingBackend with 8 concurrent workers.\n",
      "[Parallel(n_jobs=-1)]: Done  20 out of  20 | elapsed:    3.2s finished\n",
      "[Parallel(n_jobs=8)]: Using backend ThreadingBackend with 8 concurrent workers.\n",
      "[Parallel(n_jobs=8)]: Done  20 out of  20 | elapsed:    0.4s finished\n",
      "[Parallel(n_jobs=8)]: Using backend ThreadingBackend with 8 concurrent workers.\n",
      "[Parallel(n_jobs=8)]: Done  20 out of  20 | elapsed:    0.4s finished\n",
      "[Parallel(n_jobs=8)]: Using backend ThreadingBackend with 8 concurrent workers.\n",
      "[Parallel(n_jobs=8)]: Done  20 out of  20 | elapsed:    0.0s finished\n",
      "[Parallel(n_jobs=8)]: Using backend ThreadingBackend with 8 concurrent workers.\n",
      "[Parallel(n_jobs=8)]: Done  20 out of  20 | elapsed:    0.0s finished\n"
     ]
    },
    {
     "name": "stdout",
     "output_type": "stream",
     "text": [
      "min_samples_leaf 8, max_features 0.3, max_depth 15\n",
      "   train loss 0.98, val loss 1.02\n",
      "   train accuracy 0.58, val accuracy 0.59\n"
     ]
    },
    {
     "name": "stderr",
     "output_type": "stream",
     "text": [
      "[Parallel(n_jobs=-1)]: Using backend ThreadingBackend with 8 concurrent workers.\n",
      "[Parallel(n_jobs=-1)]: Done  20 out of  20 | elapsed:    3.2s finished\n",
      "[Parallel(n_jobs=8)]: Using backend ThreadingBackend with 8 concurrent workers.\n",
      "[Parallel(n_jobs=8)]: Done  20 out of  20 | elapsed:    0.2s finished\n",
      "[Parallel(n_jobs=8)]: Using backend ThreadingBackend with 8 concurrent workers.\n",
      "[Parallel(n_jobs=8)]: Done  20 out of  20 | elapsed:    0.3s finished\n",
      "[Parallel(n_jobs=8)]: Using backend ThreadingBackend with 8 concurrent workers.\n",
      "[Parallel(n_jobs=8)]: Done  20 out of  20 | elapsed:    0.0s finished\n",
      "[Parallel(n_jobs=8)]: Using backend ThreadingBackend with 8 concurrent workers.\n",
      "[Parallel(n_jobs=8)]: Done  20 out of  20 | elapsed:    0.0s finished\n"
     ]
    },
    {
     "name": "stdout",
     "output_type": "stream",
     "text": [
      "min_samples_leaf 19, max_features 0.5, max_depth 9\n",
      "   train loss 1.04, val loss 1.03\n",
      "   train accuracy 0.56, val accuracy 0.59\n"
     ]
    }
   ],
   "source": [
    "#Hyperparameter tuning\n",
    "\n",
    "def get_random_values_hyperparameters():\n",
    "    min_samples_leaf = np.random.randint(low=5, high=20, size=1)[0]\n",
    "    max_features = np.random.uniform(0.1,0.6)\n",
    "    max_depth = np.random.randint(low=6, high=20, size=1)[0]\n",
    "    return min_samples_leaf, max_features,max_depth\n",
    "\n",
    "for i in range(25):\n",
    "    h1, h2,h3 = get_random_values_hyperparameters()\n",
    "    rf = RandomForestClassifier(n_jobs = -1, n_estimators=20, min_samples_leaf=h1,\n",
    "                                 max_features=h2, max_depth=h3, verbose=1)\n",
    "    rf.fit(X_res, y_res)\n",
    "    y_hat_res = rf.predict_proba(X_res)\n",
    "    y_res_pred = rf.predict(X_res)\n",
    "    \n",
    "    y_hat_valid = rf.predict_proba(X_valid)\n",
    "    y_valid_pred = rf.predict(X_valid)\n",
    "    print(\"min_samples_leaf %d, max_features %.1f, max_depth %d\" % (h1, h2, h3))\n",
    "    print(\"   train loss %.2f, val loss %.2f\" % (log_loss(y_res, y_hat_res),\n",
    "          log_loss(y_valid, y_hat_valid)))\n",
    "    print(\"   train accuracy %.2f, val accuracy %.2f\" % (accuracy_score(y_res, y_res_pred),\n",
    "        accuracy_score(y_valid, y_valid_pred)))\n"
   ]
  },
  {
   "cell_type": "markdown",
   "metadata": {
    "id": "S06PLxI8_bMF"
   },
   "source": [
    "<div class=\"alert alert-block alert-success\">\n",
    "Best result (train accuracy 0.61, val accuracy 0.59) is for hyperparameters - min_samples_leaf 8, max_features 0.3, max_depth 19"
   ]
  },
  {
   "cell_type": "markdown",
   "metadata": {
    "id": "IMfU-rP0_bPN"
   },
   "source": [
    "#### Training on X_train_full data\n",
    "<div class=\"alert alert-block alert-success\">\n",
    "Now, after obtaining the best hyperparameters, we combine the test and validation data and train the model on entire dataset. In this new training we can keep even higher number of trees"
   ]
  },
  {
   "cell_type": "code",
   "execution_count": 36,
   "metadata": {},
   "outputs": [],
   "source": [
    "enc_cat_feat(X_train_full,X_test)\n",
    "\n",
    "X_train_full,y_train_full = label_tip(X_train_full,y_train_full)\n",
    "X_test,y_test = label_tip(X_test,y_test)\n",
    "    \n",
    "le_label_full = LabelEncoder()\n",
    "y_train_full, y_test = label_encode(y_train_full,y_test,le_label_full)\n",
    "\n",
    "X_train_full = X_train_full.drop(drop_cols, axis=1)\n",
    "X_test = X_test.drop(drop_cols, axis=1)\n"
   ]
  },
  {
   "cell_type": "code",
   "execution_count": 37,
   "metadata": {},
   "outputs": [
    {
     "data": {
      "image/png": "[encoded data removed]",
      "text/plain": [
       "<Figure size 432x288 with 1 Axes>"
      ]
     },
     "metadata": {
      "needs_background": "light"
     },
     "output_type": "display_data"
    },
    {
     "data": {
      "image/png": "[encoded data removed]",
      "text/plain": [
       "<Figure size 432x288 with 1 Axes>"
      ]
     },
     "metadata": {
      "needs_background": "light"
     },
     "output_type": "display_data"
    }
   ],
   "source": [
    "#Performing sampling on train + validation data\n",
    "X_res,y_res = sample(X_train_full,y_train_full)"
   ]
  },
  {
   "cell_type": "code",
   "execution_count": 41,
   "metadata": {},
   "outputs": [
    {
     "name": "stderr",
     "output_type": "stream",
     "text": [
      "[Parallel(n_jobs=-1)]: Using backend ThreadingBackend with 8 concurrent workers.\n",
      "[Parallel(n_jobs=-1)]: Done  34 tasks      | elapsed:    7.3s\n",
      "[Parallel(n_jobs=-1)]: Done  50 out of  50 | elapsed:    9.8s finished\n",
      "[Parallel(n_jobs=8)]: Using backend ThreadingBackend with 8 concurrent workers.\n",
      "[Parallel(n_jobs=8)]: Done  34 tasks      | elapsed:    1.0s\n",
      "[Parallel(n_jobs=8)]: Done  50 out of  50 | elapsed:    1.4s finished\n",
      "[Parallel(n_jobs=8)]: Using backend ThreadingBackend with 8 concurrent workers.\n",
      "[Parallel(n_jobs=8)]: Done  34 tasks      | elapsed:    1.0s\n",
      "[Parallel(n_jobs=8)]: Done  50 out of  50 | elapsed:    1.4s finished\n",
      "[Parallel(n_jobs=8)]: Using backend ThreadingBackend with 8 concurrent workers.\n",
      "[Parallel(n_jobs=8)]: Done  34 tasks      | elapsed:    0.1s\n",
      "[Parallel(n_jobs=8)]: Done  50 out of  50 | elapsed:    0.1s finished\n",
      "[Parallel(n_jobs=8)]: Using backend ThreadingBackend with 8 concurrent workers.\n",
      "[Parallel(n_jobs=8)]: Done  34 tasks      | elapsed:    0.1s\n",
      "[Parallel(n_jobs=8)]: Done  50 out of  50 | elapsed:    0.1s finished\n"
     ]
    },
    {
     "name": "stdout",
     "output_type": "stream",
     "text": [
      "min_samples_leaf 8, max_features 0.3, max_depth 19\n",
      "   train loss 0.93, test loss 1.00\n",
      "   train accuracy 0.61, test accuracy 0.60\n"
     ]
    }
   ],
   "source": [
    "h1,h2,h3 = 8,0.3,19\n",
    "\n",
    "rf = RandomForestClassifier(n_jobs = -1, n_estimators=50, min_samples_leaf=h1,\n",
    "                                 max_features=h2, max_depth=h3, verbose=1)\n",
    "rf.fit(X_res, y_res)\n",
    "y_hat_res = rf.predict_proba(X_res)\n",
    "y_res_pred = rf.predict(X_res)\n",
    "\n",
    "y_hat_test = rf.predict_proba(X_test)\n",
    "y_test_pred = rf.predict(X_test)\n",
    "print(\"min_samples_leaf %d, max_features %.1f, max_depth %d\" % (h1, h2, h3))\n",
    "print(\"   train loss %.2f, test loss %.2f\" % (log_loss(y_res, y_hat_res),\n",
    "      log_loss(y_test, y_hat_test)))\n",
    "print(\"   train accuracy %.2f, test accuracy %.2f\" % (accuracy_score(y_res, y_res_pred),\n",
    "    accuracy_score(y_test, y_test_pred)))\n"
   ]
  },
  {
   "cell_type": "markdown",
   "metadata": {},
   "source": [
    "#### Training on X_train_full data\n",
    "<div class=\"alert alert-block alert-success\">\n",
    "The model trained shows an accuracy of 61% on train data and accuracy of 60% on test data"
   ]
  },
  {
   "cell_type": "markdown",
   "metadata": {},
   "source": [
    "# **Anomaly Detection**"
   ]
  },
  {
   "cell_type": "markdown",
   "metadata": {},
   "source": [
    "### Answer 5"
   ]
  },
  {
   "cell_type": "markdown",
   "metadata": {},
   "source": [
    "\n",
    "<div class=\"alert alert-block alert-info\">\n",
    "To find the anomaly Isolation Forest is used. Ideally before applying Isolation Forest we should have an idea about the amount of anomaly to expect. In this assumption of 1 percent anomaly in entire data was made"
   ]
  },
  {
   "cell_type": "code",
   "execution_count": 39,
   "metadata": {},
   "outputs": [],
   "source": [
    "contamination = 0.01\n",
    "\n",
    "merged_data = pd.concat([df_new.reset_index(drop=True),y.reset_index(drop=True)],axis=1)"
   ]
  },
  {
   "cell_type": "markdown",
   "metadata": {},
   "source": [
    "\n",
    "<div class=\"alert alert-block alert-info\">\n",
    "Islolation Forest was applied on dataset df_new as it contains all the records. However, we need to drop the correlated columns"
   ]
  },
  {
   "cell_type": "code",
   "execution_count": 40,
   "metadata": {},
   "outputs": [
    {
     "data": {
      "text/html": [
       "<div>\n",
       "<style scoped>\n",
       "    .dataframe tbody tr th:only-of-type {\n",
       "        vertical-align: middle;\n",
       "    }\n",
       "\n",
       "    .dataframe tbody tr th {\n",
       "        vertical-align: top;\n",
       "    }\n",
       "\n",
       "    .dataframe thead th {\n",
       "        text-align: right;\n",
       "    }\n",
       "</style>\n",
       "<table border=\"1\" class=\"dataframe\">\n",
       "  <thead>\n",
       "    <tr style=\"text-align: right;\">\n",
       "      <th></th>\n",
       "      <th>VendorID</th>\n",
       "      <th>store_and_fwd_flag</th>\n",
       "      <th>RatecodeID</th>\n",
       "      <th>PULocationID</th>\n",
       "      <th>DOLocationID</th>\n",
       "      <th>passenger_count</th>\n",
       "      <th>trip_distance</th>\n",
       "      <th>extra</th>\n",
       "      <th>tip_amount</th>\n",
       "      <th>tolls_amount</th>\n",
       "      <th>payment_type</th>\n",
       "      <th>pickup_hour</th>\n",
       "    </tr>\n",
       "  </thead>\n",
       "  <tbody>\n",
       "    <tr>\n",
       "      <th>68</th>\n",
       "      <td>2</td>\n",
       "      <td>0</td>\n",
       "      <td>1</td>\n",
       "      <td>255</td>\n",
       "      <td>48</td>\n",
       "      <td>1</td>\n",
       "      <td>7.65</td>\n",
       "      <td>0.5</td>\n",
       "      <td>6.70</td>\n",
       "      <td>0.00</td>\n",
       "      <td>1</td>\n",
       "      <td>0</td>\n",
       "    </tr>\n",
       "    <tr>\n",
       "      <th>145</th>\n",
       "      <td>2</td>\n",
       "      <td>0</td>\n",
       "      <td>1</td>\n",
       "      <td>223</td>\n",
       "      <td>263</td>\n",
       "      <td>5</td>\n",
       "      <td>5.87</td>\n",
       "      <td>0.5</td>\n",
       "      <td>2.00</td>\n",
       "      <td>0.00</td>\n",
       "      <td>1</td>\n",
       "      <td>0</td>\n",
       "    </tr>\n",
       "    <tr>\n",
       "      <th>190</th>\n",
       "      <td>2</td>\n",
       "      <td>0</td>\n",
       "      <td>1</td>\n",
       "      <td>255</td>\n",
       "      <td>49</td>\n",
       "      <td>6</td>\n",
       "      <td>2.76</td>\n",
       "      <td>0.5</td>\n",
       "      <td>2.46</td>\n",
       "      <td>0.00</td>\n",
       "      <td>1</td>\n",
       "      <td>0</td>\n",
       "    </tr>\n",
       "    <tr>\n",
       "      <th>243</th>\n",
       "      <td>2</td>\n",
       "      <td>0</td>\n",
       "      <td>1</td>\n",
       "      <td>255</td>\n",
       "      <td>107</td>\n",
       "      <td>5</td>\n",
       "      <td>5.03</td>\n",
       "      <td>0.5</td>\n",
       "      <td>3.76</td>\n",
       "      <td>0.00</td>\n",
       "      <td>1</td>\n",
       "      <td>0</td>\n",
       "    </tr>\n",
       "    <tr>\n",
       "      <th>256</th>\n",
       "      <td>2</td>\n",
       "      <td>0</td>\n",
       "      <td>5</td>\n",
       "      <td>259</td>\n",
       "      <td>69</td>\n",
       "      <td>1</td>\n",
       "      <td>6.60</td>\n",
       "      <td>0.0</td>\n",
       "      <td>0.00</td>\n",
       "      <td>0.00</td>\n",
       "      <td>2</td>\n",
       "      <td>0</td>\n",
       "    </tr>\n",
       "    <tr>\n",
       "      <th>...</th>\n",
       "      <td>...</td>\n",
       "      <td>...</td>\n",
       "      <td>...</td>\n",
       "      <td>...</td>\n",
       "      <td>...</td>\n",
       "      <td>...</td>\n",
       "      <td>...</td>\n",
       "      <td>...</td>\n",
       "      <td>...</td>\n",
       "      <td>...</td>\n",
       "      <td>...</td>\n",
       "      <td>...</td>\n",
       "    </tr>\n",
       "    <tr>\n",
       "      <th>1223978</th>\n",
       "      <td>1</td>\n",
       "      <td>0</td>\n",
       "      <td>1</td>\n",
       "      <td>7</td>\n",
       "      <td>256</td>\n",
       "      <td>1</td>\n",
       "      <td>7.40</td>\n",
       "      <td>0.5</td>\n",
       "      <td>6.45</td>\n",
       "      <td>0.00</td>\n",
       "      <td>1</td>\n",
       "      <td>23</td>\n",
       "    </tr>\n",
       "    <tr>\n",
       "      <th>1224002</th>\n",
       "      <td>1</td>\n",
       "      <td>0</td>\n",
       "      <td>1</td>\n",
       "      <td>7</td>\n",
       "      <td>243</td>\n",
       "      <td>1</td>\n",
       "      <td>7.50</td>\n",
       "      <td>0.5</td>\n",
       "      <td>7.30</td>\n",
       "      <td>5.54</td>\n",
       "      <td>1</td>\n",
       "      <td>23</td>\n",
       "    </tr>\n",
       "    <tr>\n",
       "      <th>1224060</th>\n",
       "      <td>1</td>\n",
       "      <td>0</td>\n",
       "      <td>1</td>\n",
       "      <td>255</td>\n",
       "      <td>181</td>\n",
       "      <td>2</td>\n",
       "      <td>6.30</td>\n",
       "      <td>0.5</td>\n",
       "      <td>4.15</td>\n",
       "      <td>0.00</td>\n",
       "      <td>1</td>\n",
       "      <td>23</td>\n",
       "    </tr>\n",
       "    <tr>\n",
       "      <th>1224094</th>\n",
       "      <td>1</td>\n",
       "      <td>0</td>\n",
       "      <td>5</td>\n",
       "      <td>210</td>\n",
       "      <td>39</td>\n",
       "      <td>1</td>\n",
       "      <td>6.90</td>\n",
       "      <td>0.0</td>\n",
       "      <td>0.00</td>\n",
       "      <td>0.00</td>\n",
       "      <td>2</td>\n",
       "      <td>23</td>\n",
       "    </tr>\n",
       "    <tr>\n",
       "      <th>1224124</th>\n",
       "      <td>1</td>\n",
       "      <td>0</td>\n",
       "      <td>1</td>\n",
       "      <td>33</td>\n",
       "      <td>256</td>\n",
       "      <td>4</td>\n",
       "      <td>3.80</td>\n",
       "      <td>0.5</td>\n",
       "      <td>3.25</td>\n",
       "      <td>0.00</td>\n",
       "      <td>1</td>\n",
       "      <td>23</td>\n",
       "    </tr>\n",
       "  </tbody>\n",
       "</table>\n",
       "<p>11378 rows × 12 columns</p>\n",
       "</div>"
      ],
      "text/plain": [
       "         VendorID  store_and_fwd_flag  RatecodeID  PULocationID  DOLocationID  \\\n",
       "68              2                   0           1           255            48   \n",
       "145             2                   0           1           223           263   \n",
       "190             2                   0           1           255            49   \n",
       "243             2                   0           1           255           107   \n",
       "256             2                   0           5           259            69   \n",
       "...           ...                 ...         ...           ...           ...   \n",
       "1223978         1                   0           1             7           256   \n",
       "1224002         1                   0           1             7           243   \n",
       "1224060         1                   0           1           255           181   \n",
       "1224094         1                   0           5           210            39   \n",
       "1224124         1                   0           1            33           256   \n",
       "\n",
       "         passenger_count  trip_distance  extra  tip_amount  tolls_amount  \\\n",
       "68                     1           7.65    0.5        6.70          0.00   \n",
       "145                    5           5.87    0.5        2.00          0.00   \n",
       "190                    6           2.76    0.5        2.46          0.00   \n",
       "243                    5           5.03    0.5        3.76          0.00   \n",
       "256                    1           6.60    0.0        0.00          0.00   \n",
       "...                  ...            ...    ...         ...           ...   \n",
       "1223978                1           7.40    0.5        6.45          0.00   \n",
       "1224002                1           7.50    0.5        7.30          5.54   \n",
       "1224060                2           6.30    0.5        4.15          0.00   \n",
       "1224094                1           6.90    0.0        0.00          0.00   \n",
       "1224124                4           3.80    0.5        3.25          0.00   \n",
       "\n",
       "         payment_type  pickup_hour  \n",
       "68                  1            0  \n",
       "145                 1            0  \n",
       "190                 1            0  \n",
       "243                 1            0  \n",
       "256                 2            0  \n",
       "...               ...          ...  \n",
       "1223978             1           23  \n",
       "1224002             1           23  \n",
       "1224060             1           23  \n",
       "1224094             2           23  \n",
       "1224124             1           23  \n",
       "\n",
       "[11378 rows x 12 columns]"
      ]
     },
     "execution_count": 40,
     "metadata": {},
     "output_type": "execute_result"
    }
   ],
   "source": [
    "enc_cat_feat(df_new)\n",
    "df_new = df_new.drop(drop_cols, axis=1)\n",
    "\n",
    "islf = IsolationForest(contamination=contamination,n_estimators=500).fit(df_new)\n",
    "\n",
    "anomaly = islf.predict(df_new)\n",
    "\n",
    "#Anomaly Data\n",
    "df_new.iloc[np.where(anomaly==-1)]"
   ]
  },
  {
   "cell_type": "code",
   "execution_count": null,
   "metadata": {},
   "outputs": [],
   "source": []
  }
 ],
 "metadata": {
  "colab": {
   "name": "vianai.ipynb",
   "provenance": []
  },
  "kernelspec": {
   "display_name": "Python 3",
   "language": "python",
   "name": "python3"
  },
  "language_info": {
   "codemirror_mode": {
    "name": "ipython",
    "version": 3
   },
   "file_extension": ".py",
   "mimetype": "text/x-python",
   "name": "python",
   "nbconvert_exporter": "python",
   "pygments_lexer": "ipython3",
   "version": "3.8.8"
  }
 },
 "nbformat": 4,
 "nbformat_minor": 1
}
